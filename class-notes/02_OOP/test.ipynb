{
 "cells": [
  {
   "cell_type": "code",
   "execution_count": 27,
   "metadata": {},
   "outputs": [
    {
     "name": "stdout",
     "output_type": "stream",
     "text": [
      "Result is 19\n"
     ]
    }
   ],
   "source": [
    "ops = [\"5\", \"2\", \"C\", \"D\", \"4\"]\n",
    "ops1 = []\n",
    "\n",
    "for i in ops:\n",
    "    if i.isdigit() or (i[0] == \"-\" and i[1:].isdigit()):\n",
    "        ops1.append(int(i))\n",
    "    elif i == \"+\":\n",
    "        if len(ops1) >= 2:\n",
    "            item = ops1[-1] + ops1[-2]\n",
    "            ops1.append(item)\n",
    "    elif i == \"D\":\n",
    "        if len(ops1) >= 1:\n",
    "            item = ops1[-1] * 2\n",
    "            ops1.append(item)\n",
    "        else:\n",
    "            print(\"Something is wrong! Not enough items for doubling!\")\n",
    "    elif i == \"C\":\n",
    "        if len(ops1) >= 1:\n",
    "            ops1.pop()\n",
    "        else:\n",
    "            print(\"Something is wrong! Not enough items for clearing!\")\n",
    "    else:\n",
    "        print(\"Something is wrong! Invalid operation:\", i)\n",
    "\n",
    "result = sum(ops1)\n",
    "print(f\"Result is {result}.\")\n"
   ]
  }
 ],
 "metadata": {
  "kernelspec": {
   "display_name": "Python 3",
   "language": "python",
   "name": "python3"
  },
  "language_info": {
   "codemirror_mode": {
    "name": "ipython",
    "version": 3
   },
   "file_extension": ".py",
   "mimetype": "text/x-python",
   "name": "python",
   "nbconvert_exporter": "python",
   "pygments_lexer": "ipython3",
   "version": "3.11.2"
  },
  "orig_nbformat": 4
 },
 "nbformat": 4,
 "nbformat_minor": 2
}
