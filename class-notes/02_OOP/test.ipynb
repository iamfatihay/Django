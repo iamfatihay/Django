{
 "cells": [
  {
   "cell_type": "code",
   "execution_count": 4,
   "metadata": {},
   "outputs": [
    {
     "name": "stdout",
     "output_type": "stream",
     "text": [
      "30\n"
     ]
    }
   ],
   "source": [
    "ops =[\"5\", \"2\", \"C\", \"D\", \"+\"]\n",
    "ops1 = []\n",
    "\n",
    "for i in ops:\n",
    "    if i.isdigit() or (i[0] == \"-\" and i[1:].isdigit()):\n",
    "        ops1.append(int(i))\n",
    "    elif i == \"+\":\n",
    "        item = int(ops1[-1]) + int(ops1[-2])\n",
    "        ops1.append(item)\n",
    "    elif i == \"D\":\n",
    "        item = int(ops1[-1])*2\n",
    "        ops1.append(item)\n",
    "    elif i == \"C\":\n",
    "        ops1.pop()\n",
    "\n",
    "result = sum(ops1)\n",
    "print(result)"
   ]
  }
 ],
 "metadata": {
  "kernelspec": {
   "display_name": "Python 3",
   "language": "python",
   "name": "python3"
  },
  "language_info": {
   "codemirror_mode": {
    "name": "ipython",
    "version": 3
   },
   "file_extension": ".py",
   "mimetype": "text/x-python",
   "name": "python",
   "nbconvert_exporter": "python",
   "pygments_lexer": "ipython3",
   "version": "3.11.2"
  },
  "orig_nbformat": 4
 },
 "nbformat": 4,
 "nbformat_minor": 2
}
